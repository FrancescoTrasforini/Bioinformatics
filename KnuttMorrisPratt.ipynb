{
  "nbformat": 4,
  "nbformat_minor": 0,
  "metadata": {
    "colab": {
      "provenance": []
    },
    "kernelspec": {
      "name": "python3",
      "display_name": "Python 3"
    },
    "language_info": {
      "name": "python"
    }
  },
  "cells": [
    {
      "cell_type": "code",
      "source": [
        "T = [\"b\",\"b\",\"b\",\"a\",\"b\",\"b\",\"b\",\"b\",\"a\"]\n",
        "P = [\"b\",\"b\",\"b\",\"a\"]"
      ],
      "metadata": {
        "id": "lxSN27A7fr3D"
      },
      "execution_count": 43,
      "outputs": []
    },
    {
      "cell_type": "code",
      "execution_count": 44,
      "metadata": {
        "id": "zrpvE3KaXTYx"
      },
      "outputs": [],
      "source": [
        "def prefix_function(pattern):\n",
        "    m = len(pattern)\n",
        "    pi = []\n",
        "    pi.append(0)\n",
        "    k = 0 #prefix length\n",
        "    for q in range(1,m):\n",
        "      while (k > 0 and pattern[k] != pattern[q]):\n",
        "        #mismatch\n",
        "        k = pi[k-1]\n",
        "      if(pattern[k] == pattern[q]): \n",
        "        #match\n",
        "        k += 1\n",
        "      pi.append(k)\n",
        "    print(\"pi\",pi)    \n",
        "    return(pi)\n"
      ]
    },
    {
      "cell_type": "code",
      "source": [
        "def KMP_Matcher(text,pattern):\n",
        "  n = len(text)\n",
        "  m = len(pattern)\n",
        "  pi = prefix_function(pattern)\n",
        "  q = 0\n",
        "  for i in range(0,n):\n",
        "    while(q > 0 and pattern[q] != text[i]):\n",
        "      #mismatch\n",
        "      q = pi[q-1]\n",
        "    if(pattern[q] == text[i]):\n",
        "      #match\n",
        "      q += 1\n",
        "      if(q == m):\n",
        "        #complete pattern occurrence\n",
        "        print(\"The pattern occurs with shift \",(i - m + 1))\n",
        "        q = pi[q-1]\n"
      ],
      "metadata": {
        "id": "X2hUB1AFdglT"
      },
      "execution_count": 47,
      "outputs": []
    },
    {
      "cell_type": "code",
      "source": [
        "KMP_Matcher(T,P)"
      ],
      "metadata": {
        "colab": {
          "base_uri": "https://localhost:8080/"
        },
        "id": "3okrP1iygOl9",
        "outputId": "5bc01927-6b17-4be9-a0bd-105f9c1bd953"
      },
      "execution_count": 48,
      "outputs": [
        {
          "output_type": "stream",
          "name": "stdout",
          "text": [
            "pi [0, 1, 2, 0]\n",
            "The pattern occurs with shift  0\n",
            "The pattern occurs with shift  5\n"
          ]
        }
      ]
    }
  ]
}